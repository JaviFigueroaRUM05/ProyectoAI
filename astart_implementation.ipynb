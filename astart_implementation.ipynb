{
 "cells": [
  {
   "cell_type": "code",
   "execution_count": 1,
   "metadata": {},
   "outputs": [],
   "source": [
    "from search import *\n",
    "import numpy as np\n",
    "\n",
    "class GraphProblem(Problem):\n",
    "\n",
    "    \"\"\"The problem of searching a graph from one node to another.\"\"\"\n",
    "\n",
    "    def __init__(self, initial, goal, graph, v_V):\n",
    "        Problem.__init__(self, initial, goal)\n",
    "        self.graph = graph\n",
    "        self.v_V = v_V\n",
    "\n",
    "    def actions(self, A):\n",
    "        \"\"\"The actions at a graph node are just its neighbors.\"\"\"\n",
    "        return list(self.graph.get(A).keys())\n",
    "\n",
    "    def result(self, state, action):\n",
    "        \"\"\"The result of going to a neighbor is just that neighbor.\"\"\"\n",
    "        return action\n",
    "\n",
    "    def path_cost(self, cost_so_far, A, action, B):\n",
    "        return cost_so_far + (self.graph.get(A, B)/self.v_V[A][0] or np.inf)\n",
    "\n",
    "    def find_min_edge(self):\n",
    "        \"\"\"Find minimum value of edges.\"\"\"\n",
    "        m = np.inf\n",
    "        for d in self.graph.graph_dict.values():\n",
    "            local_min = min(d.values())\n",
    "            m = min(m, local_min)\n",
    "\n",
    "        return m\n",
    "\n",
    "    def h(self, node):\n",
    "        \"\"\"h function is straight-line distance from a node's state to goal \n",
    "            divided by the speed limit of the node's state.\"\"\"\n",
    "        locs = getattr(self.graph, 'locations', None)\n",
    "        if locs:\n",
    "            if type(node) is str:\n",
    "                return int(distance(locs[node.state], locs[self.goal])/self.v_V[node.state][1])\n",
    "            return int(distance(locs[node.state], locs[self.goal])/self.v_V[node.state][1])\n",
    "        else:\n",
    "            return np.inf\n"
   ]
  },
  {
   "cell_type": "code",
   "execution_count": 2,
   "metadata": {},
   "outputs": [],
   "source": [
    "# Graph with actual cost values -> g(n)\n",
    "graph = UndirectedGraph(dict(\n",
    "    Arad=dict(Zerind=75, Sibiu=140, Timisoara=118),\n",
    "    Bucharest=dict(Urziceni=85, Pitesti=101, Giurgiu=90, Fagaras=211),\n",
    "    Craiova=dict(Drobeta=120, Rimnicu=146, Pitesti=138),\n",
    "    Drobeta=dict(Mehadia=75),\n",
    "    Eforie=dict(Hirsova=86),\n",
    "    Fagaras=dict(Sibiu=99),\n",
    "    Hirsova=dict(Urziceni=98),\n",
    "    Iasi=dict(Vaslui=92, Neamt=87),\n",
    "    Lugoj=dict(Timisoara=111, Mehadia=70),\n",
    "    Oradea=dict(Zerind=71, Sibiu=151),\n",
    "    Pitesti=dict(Rimnicu=97),\n",
    "    Rimnicu=dict(Sibiu=80),\n",
    "    Urziceni=dict(Vaslui=142)))\n",
    "\n",
    "# Used in the distance calculation between \n",
    "# node \"n\" to the goal node (straight line distance = D)\n",
    "graph.locations = dict(\n",
    "    Arad=(91, 492), Bucharest=(400, 327), Craiova=(253, 288),\n",
    "    Drobeta=(165, 299), Eforie=(562, 293), Fagaras=(305, 449),\n",
    "    Giurgiu=(375, 270), Hirsova=(534, 350), Iasi=(473, 506),\n",
    "    Lugoj=(165, 379), Mehadia=(168, 339), Neamt=(406, 537),\n",
    "    Oradea=(131, 571), Pitesti=(320, 368), Rimnicu=(233, 410),\n",
    "    Sibiu=(207, 457), Timisoara=(94, 410), Urziceni=(456, 350),\n",
    "    Vaslui=(509, 444), Zerind=(108, 531))\n",
    "\n",
    "# Dictionary of speeds City(actual speed, speed limit)\n",
    "v_V = dict(\n",
    "        Arad=(20, 35), Bucharest=(38, 50), Craiova=(10, 20),\n",
    "        Drobeta=(36, 41), Eforie=(11, 22), Fagaras=(22, 30),\n",
    "        Giurgiu=(7, 12), Hirsova=(15, 19), Iasi=(18, 22),\n",
    "        Lugoj=(21, 33), Mehadia=(24, 29), Neamt=(19, 34),\n",
    "        Oradea=(44, 55), Pitesti=(15, 20), Rimnicu=(22, 31),\n",
    "        Sibiu=(20, 36), Timisoara=(33, 48), Urziceni=(6, 10),\n",
    "        Vaslui=(11, 25), Zerind=(50, 60)\n",
    ")"
   ]
  },
  {
   "cell_type": "code",
   "execution_count": 3,
   "metadata": {},
   "outputs": [
    {
     "output_type": "stream",
     "name": "stdout",
     "text": "Shortest path from Arad to Bucharest -> [<Node Arad>, <Node Sibiu>, <Node Fagaras>, <Node Bucharest>]\n"
    }
   ],
   "source": [
    "initial_N = 'Arad'\n",
    "goal_N = 'Bucharest'\n",
    "problem = GraphProblem(initial_N, goal_N, graph, v_V)\n",
    "\n",
    "# A* call. astar_search is from search.py\n",
    "shortest_Path = astar_search(problem).path()\n",
    "\n",
    "print(\"Shortest path from\", initial_N, \"to\", goal_N, \"->\",  shortest_Path)"
   ]
  }
 ],
 "metadata": {
  "language_info": {
   "codemirror_mode": {
    "name": "ipython",
    "version": 2
   },
   "file_extension": ".py",
   "mimetype": "text/x-python",
   "name": "python",
   "nbconvert_exporter": "python",
   "pygments_lexer": "ipython2",
   "version": "3.6.9-final"
  },
  "orig_nbformat": 2,
  "kernelspec": {
   "name": "python36964bitbc53ace60c9546fa812b771393189be2",
   "display_name": "Python 3.6.9 64-bit"
  }
 },
 "nbformat": 4,
 "nbformat_minor": 2
}