{
 "cells": [
  {
   "cell_type": "code",
   "execution_count": 8,
   "metadata": {},
   "outputs": [],
   "source": [
    "from problems import GraphProblem\n",
    "import romania\n",
    "from search import *\n",
    "import numpy as np\n",
    "\n",
    "class AStarGraphProblem(GraphProblem):\n",
    "\n",
    "    \"\"\"The problem of searching a graph from one node to another.\"\"\"\n",
    "\n",
    "    def __init__(self, initial, goal, graph, v_V):\n",
    "        super().__init__(initial, goal, graph)\n",
    "        self.v_V = v_V\n",
    "\n",
    "    def path_cost(self, cost_so_far, A, action, B):\n",
    "        return cost_so_far + (self.graph.get(A, B)/self.v_V[A][0] or np.inf)\n",
    "\n",
    "    def h(self, node):\n",
    "        \"\"\"h function is straight-line distance from a node's state to goal \n",
    "            divided by the speed limit of the node's state.\"\"\"\n",
    "        locs = getattr(self.graph, 'locations', None)\n",
    "        if locs:\n",
    "            if type(node) is str:\n",
    "                return int(distance(locs[node.state], locs[self.goal])/self.v_V[node.state][1])\n",
    "            return int(distance(locs[node.state], locs[self.goal])/self.v_V[node.state][1])\n",
    "        else:\n",
    "            return np.inf\n"
   ]
  },
  {
   "cell_type": "code",
   "execution_count": 9,
   "metadata": {},
   "outputs": [
    {
     "name": "stdout",
     "output_type": "stream",
     "text": [
      "Shortest path from Arad to Bucharest -> [<Node Arad>, <Node Sibiu>, <Node Fagaras>, <Node Bucharest>]\n"
     ]
    }
   ],
   "source": [
    "initial_N = 'Arad'\n",
    "goal_N = 'Bucharest'\n",
    "problem = AStarGraphProblem(initial_N, goal_N, romania.graph, romania.speeds)\n",
    "\n",
    "# A* call. astar_search is from search.py\n",
    "shortest_Path = astar_search(problem).path()\n",
    "\n",
    "print(\"Shortest path from\", initial_N, \"to\", goal_N, \"->\",  shortest_Path)"
   ]
  },
  {
   "cell_type": "code",
   "execution_count": 11,
   "metadata": {},
   "outputs": [
    {
     "name": "stdout",
     "output_type": "stream",
     "text": [
      "240 µs ± 16.2 µs per loop (mean ± std. dev. of 7 runs, 1000 loops each)\n"
     ]
    }
   ],
   "source": [
    "%%timeit\n",
    "initial_N = 'Arad'\n",
    "goal_N = 'Bucharest'\n",
    "problem = AStarGraphProblem(initial_N, goal_N, romania.graph, romania.speeds)\n",
    "\n",
    "# A* call. astar_search is from search.py\n",
    "shortest_Path = astar_search(problem).path()"
   ]
  },
  {
   "cell_type": "code",
   "execution_count": null,
   "metadata": {},
   "outputs": [],
   "source": []
  }
 ],
 "metadata": {
  "kernelspec": {
   "display_name": "ai_env",
   "language": "python",
   "name": "ai_env"
  },
  "language_info": {
   "codemirror_mode": {
    "name": "ipython",
    "version": 3
   },
   "file_extension": ".py",
   "mimetype": "text/x-python",
   "name": "python",
   "nbconvert_exporter": "python",
   "pygments_lexer": "ipython3",
   "version": "3.7.7"
  }
 },
 "nbformat": 4,
 "nbformat_minor": 2
}
